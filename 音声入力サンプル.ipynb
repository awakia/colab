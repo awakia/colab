{
  "nbformat": 4,
  "nbformat_minor": 0,
  "metadata": {
    "colab": {
      "provenance": [],
      "authorship_tag": "ABX9TyOrjmHS8kKRw4498MiMD9e4",
      "include_colab_link": true
    },
    "kernelspec": {
      "name": "python3",
      "display_name": "Python 3"
    },
    "language_info": {
      "name": "python"
    }
  },
  "cells": [
    {
      "cell_type": "markdown",
      "metadata": {
        "id": "view-in-github",
        "colab_type": "text"
      },
      "source": [
        "<a href=\"https://colab.research.google.com/github/awakia/colab/blob/main/%E9%9F%B3%E5%A3%B0%E5%85%A5%E5%8A%9B%E3%82%B5%E3%83%B3%E3%83%97%E3%83%AB.ipynb\" target=\"_parent\"><img src=\"https://colab.research.google.com/assets/colab-badge.svg\" alt=\"Open In Colab\"/></a>"
      ]
    },
    {
      "cell_type": "code",
      "execution_count": null,
      "metadata": {
        "colab": {
          "base_uri": "https://localhost:8080/"
        },
        "id": "VJMVn6cpNETB",
        "outputId": "59362c2b-b90c-4f2c-8f0d-b8a9b33f015e"
      },
      "outputs": [
        {
          "output_type": "stream",
          "name": "stdout",
          "text": [
            "Reading package lists... Done\n",
            "Building dependency tree       \n",
            "Reading state information... Done\n",
            "python3-pyaudio is already the newest version (0.2.11-1build2).\n",
            "The following package was automatically installed and is no longer required:\n",
            "  libnvidia-common-460\n",
            "Use 'apt autoremove' to remove it.\n",
            "0 upgraded, 0 newly installed, 0 to remove and 20 not upgraded.\n"
          ]
        }
      ],
      "source": [
        "!pip install --upgrade pip\n",
        "!pip install librosa"
      ]
    },
    {
      "cell_type": "markdown",
      "source": [],
      "metadata": {
        "id": "RIfZg_PXNbjS"
      }
    },
    {
      "cell_type": "code",
      "source": [
        "import IPython.display\n",
        "import librosa\n",
        "import librosa.display"
      ],
      "metadata": {
        "id": "g-k4gtZUNbCG"
      },
      "execution_count": null,
      "outputs": []
    },
    {
      "cell_type": "code",
      "source": [
        "# https://gist.github.com/tam17aki/8bfa2a42dab0061ee2641aed32dd1d30\n",
        "\n",
        "from IPython.display import Javascript\n",
        "from google.colab import output\n",
        "from base64 import b64decode\n",
        "\n",
        "RECORD = \"\"\"\n",
        "const sleep = time => new Promise(resolve => setTimeout(resolve, time))\n",
        "const b2text = blob => new Promise(resolve => {\n",
        "  const reader = new FileReader()\n",
        "  reader.onloadend = e => resolve(e.srcElement.result)\n",
        "  reader.readAsDataURL(blob)\n",
        "})\n",
        "var record = time => new Promise(async resolve => {\n",
        "  stream = await navigator.mediaDevices.getUserMedia({ audio: true })\n",
        "  recorder = new MediaRecorder(stream)\n",
        "  chunks = []\n",
        "  recorder.ondataavailable = e => chunks.push(e.data)\n",
        "  recorder.start()\n",
        "  await sleep(time)\n",
        "  recorder.onstop = async ()=>{\n",
        "    blob = new Blob(chunks)\n",
        "    text = await b2text(blob)\n",
        "    resolve(text)\n",
        "  }\n",
        "  recorder.stop()\n",
        "})\n",
        "\"\"\"\n",
        "\n",
        "def record(sec, filename='audio.wav'):\n",
        "  display(Javascript(RECORD))\n",
        "  s = output.eval_js('record(%d)' % (sec * 1000))\n",
        "  b = b64decode(s.split(',')[1])\n",
        "  with open(filename, 'wb+') as f:\n",
        "    f.write(b)"
      ],
      "metadata": {
        "id": "GnnKJREcQG3m"
      },
      "execution_count": null,
      "outputs": []
    },
    {
      "cell_type": "code",
      "source": [
        "audiofile = \"audio.wav\"\n",
        "second = 3\n",
        "print(f\"Speak to your microphone {second} sec...\")\n",
        "record(second, audiofile)\n",
        "print(\"Done!\")"
      ],
      "metadata": {
        "colab": {
          "base_uri": "https://localhost:8080/",
          "height": 52
        },
        "id": "JXByyITGRnSw",
        "outputId": "6bb48e93-3b6a-4e02-c577-9c2a09d01dc9"
      },
      "execution_count": null,
      "outputs": [
        {
          "output_type": "stream",
          "name": "stdout",
          "text": [
            "Speak to your microphone 3 sec...\n"
          ]
        },
        {
          "output_type": "display_data",
          "data": {
            "text/plain": [
              "<IPython.core.display.Javascript object>"
            ],
            "application/javascript": [
              "\n",
              "const sleep = time => new Promise(resolve => setTimeout(resolve, time))\n",
              "const b2text = blob => new Promise(resolve => {\n",
              "  const reader = new FileReader()\n",
              "  reader.onloadend = e => resolve(e.srcElement.result)\n",
              "  reader.readAsDataURL(blob)\n",
              "})\n",
              "var record = time => new Promise(async resolve => {\n",
              "  stream = await navigator.mediaDevices.getUserMedia({ audio: true })\n",
              "  recorder = new MediaRecorder(stream)\n",
              "  chunks = []\n",
              "  recorder.ondataavailable = e => chunks.push(e.data)\n",
              "  recorder.start()\n",
              "  await sleep(time)\n",
              "  recorder.onstop = async ()=>{\n",
              "    blob = new Blob(chunks)\n",
              "    text = await b2text(blob)\n",
              "    resolve(text)\n",
              "  }\n",
              "  recorder.stop()\n",
              "})\n"
            ]
          },
          "metadata": {}
        },
        {
          "output_type": "stream",
          "name": "stdout",
          "text": [
            "Done!\n"
          ]
        }
      ]
    },
    {
      "cell_type": "code",
      "source": [
        "speech, rate = librosa.load(audiofile, sr=16000)\n",
        "librosa.display.waveplot(speech, sr=rate)"
      ],
      "metadata": {
        "colab": {
          "base_uri": "https://localhost:8080/",
          "height": 331
        },
        "id": "kPnhelVJRunB",
        "outputId": "eae05d7b-229e-43c3-c900-75aff63fbfc7"
      },
      "execution_count": null,
      "outputs": [
        {
          "output_type": "stream",
          "name": "stderr",
          "text": [
            "/usr/local/lib/python3.7/dist-packages/librosa/core/audio.py:165: UserWarning: PySoundFile failed. Trying audioread instead.\n",
            "  warnings.warn(\"PySoundFile failed. Trying audioread instead.\")\n"
          ]
        },
        {
          "output_type": "execute_result",
          "data": {
            "text/plain": [
              "<matplotlib.collections.PolyCollection at 0x7f826be8cfd0>"
            ]
          },
          "metadata": {},
          "execution_count": 6
        },
        {
          "output_type": "display_data",
          "data": {
            "text/plain": [
              "<Figure size 432x288 with 1 Axes>"
            ],
            "image/png": "[encoded data removed]"
          },
          "metadata": {
            "needs_background": "light"
          }
        }
      ]
    },
    {
      "cell_type": "code",
      "source": [
        "IPython.display.Audio(\"audio.wav\")"
      ],
      "metadata": {
        "colab": {
          "base_uri": "https://localhost:8080/",
          "height": 75
        },
        "id": "uLTRPZkmSP3m",
        "outputId": "276271eb-942c-402f-865c-f1acb1f5cb35"
      },
      "execution_count": null,
      "outputs": [
        {
          "output_type": "execute_result",
          "data": {
            "text/plain": [
              "<IPython.lib.display.Audio object>"
            ],
            "text/html": [
              "\n",
              "                <audio  controls=\"controls\" >\n",
              "                    <source src=\"data:audio/x-wav;base64,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\" type=\"audio/x-wav\" />\n",
              "                    Your browser does not support the audio element.\n",
              "                </audio>\n",
              "              "
            ]
          },
          "metadata": {},
          "execution_count": 10
        }
      ]
    }
  ]
}